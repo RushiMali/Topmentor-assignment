{
 "cells": [
  {
   "cell_type": "markdown",
   "id": "c65c9938",
   "metadata": {},
   "source": [
    "# Q1"
   ]
  },
  {
   "cell_type": "code",
   "execution_count": null,
   "id": "5a6b42a8",
   "metadata": {},
   "outputs": [],
   "source": [
    "#1. Simple Message: Store a message in a variable, and then print that message."
   ]
  },
  {
   "cell_type": "code",
   "execution_count": 3,
   "id": "0d21fa77",
   "metadata": {},
   "outputs": [],
   "source": [
    "a=\"stay safe,stay home, Wash your hand & use mask\""
   ]
  },
  {
   "cell_type": "code",
   "execution_count": 4,
   "id": "f32868b1",
   "metadata": {},
   "outputs": [
    {
     "name": "stdout",
     "output_type": "stream",
     "text": [
      "stay safe,stay home, Wash your hand & use mask\n"
     ]
    }
   ],
   "source": [
    "print(a)"
   ]
  },
  {
   "cell_type": "markdown",
   "id": "68f8f96c",
   "metadata": {},
   "source": [
    "# Q2"
   ]
  },
  {
   "cell_type": "code",
   "execution_count": null,
   "id": "5ad6b586",
   "metadata": {},
   "outputs": [],
   "source": [
    "#2. Store a message in a variable and print that message. Then change the \n",
    "#value of your variable to a new message and print the new message.\n"
   ]
  },
  {
   "cell_type": "code",
   "execution_count": 5,
   "id": "5b84be6a",
   "metadata": {},
   "outputs": [],
   "source": [
    "b=\"I like to play Cricket\""
   ]
  },
  {
   "cell_type": "code",
   "execution_count": 6,
   "id": "8b026591",
   "metadata": {},
   "outputs": [
    {
     "name": "stdout",
     "output_type": "stream",
     "text": [
      "I like to play Cricket\n"
     ]
    }
   ],
   "source": [
    "print(b)"
   ]
  },
  {
   "cell_type": "code",
   "execution_count": 7,
   "id": "cdba3481",
   "metadata": {},
   "outputs": [],
   "source": [
    "b= \"I like to play football...\""
   ]
  },
  {
   "cell_type": "code",
   "execution_count": 8,
   "id": "388a6ac5",
   "metadata": {},
   "outputs": [
    {
     "name": "stdout",
     "output_type": "stream",
     "text": [
      "I like to play football...\n"
     ]
    }
   ],
   "source": [
    "print(b)"
   ]
  },
  {
   "cell_type": "markdown",
   "id": "f00fafd7",
   "metadata": {},
   "source": [
    "# Q3"
   ]
  },
  {
   "cell_type": "code",
   "execution_count": null,
   "id": "23ac6a7f",
   "metadata": {},
   "outputs": [],
   "source": [
    "#3. Store a person’s name in a variable and print a message to that person. \n"
   ]
  },
  {
   "cell_type": "code",
   "execution_count": 6,
   "id": "d49b3795",
   "metadata": {},
   "outputs": [],
   "source": [
    "S=\"Ramesh\"\n"
   ]
  },
  {
   "cell_type": "code",
   "execution_count": 7,
   "id": "faa893c2",
   "metadata": {},
   "outputs": [
    {
     "name": "stdout",
     "output_type": "stream",
     "text": [
      "hi Ramesh are you intrested to watch movie\n"
     ]
    }
   ],
   "source": [
    "print(\"hi\"+\" \"+ S +\" \"+\"are you intrested to watch movie\")"
   ]
  },
  {
   "cell_type": "markdown",
   "id": "a5001267",
   "metadata": {},
   "source": [
    "# Q4"
   ]
  },
  {
   "cell_type": "code",
   "execution_count": null,
   "id": "1ead6b85",
   "metadata": {},
   "outputs": [],
   "source": [
    "#4. Find a quote from a famous person you admire. Print the quote and the \n",
    "#name of its author"
   ]
  },
  {
   "cell_type": "code",
   "execution_count": 48,
   "id": "937825c8",
   "metadata": {},
   "outputs": [],
   "source": [
    "a='\"The best way to predict the future, \\n      Is to create it.\"\\n            ........Abraham lincoin'"
   ]
  },
  {
   "cell_type": "code",
   "execution_count": 49,
   "id": "c1bb7687",
   "metadata": {},
   "outputs": [
    {
     "name": "stdout",
     "output_type": "stream",
     "text": [
      "\"The best way to predict the future, \n",
      "      Is to create it.\"\n",
      "            ........Abraham lincoin\n"
     ]
    }
   ],
   "source": [
    "print(a)"
   ]
  },
  {
   "cell_type": "markdown",
   "id": "98a27609",
   "metadata": {},
   "source": [
    "# Q5"
   ]
  },
  {
   "cell_type": "code",
   "execution_count": null,
   "id": "e0ea8773",
   "metadata": {},
   "outputs": [],
   "source": [
    "#5.Repeat Exercise 4, but this time store the famous person’s name in a \n",
    "#variable called famous_person. Then compose your message and store it in \n",
    "#a new variable called message. Print your message."
   ]
  },
  {
   "cell_type": "code",
   "execution_count": 70,
   "id": "6b12bb50",
   "metadata": {},
   "outputs": [],
   "source": [
    "famus_person=\"                \" + \".......Abraham lincoin\""
   ]
  },
  {
   "cell_type": "code",
   "execution_count": 71,
   "id": "4cbb2500",
   "metadata": {},
   "outputs": [],
   "source": [
    "message='\"The best way to predict the future, \\n      Is to create it\"'"
   ]
  },
  {
   "cell_type": "code",
   "execution_count": 72,
   "id": "3f4084b6",
   "metadata": {},
   "outputs": [
    {
     "name": "stdout",
     "output_type": "stream",
     "text": [
      "\"The best way to predict the future, \n",
      "      Is to create it\"\n",
      "                .......Abraham lincoin\n"
     ]
    }
   ],
   "source": [
    "print(message)\n",
    "print(famus_person)"
   ]
  },
  {
   "cell_type": "markdown",
   "id": "ec130300",
   "metadata": {},
   "source": [
    "# Q6"
   ]
  },
  {
   "cell_type": "code",
   "execution_count": null,
   "id": "78b39a9c",
   "metadata": {},
   "outputs": [],
   "source": [
    "#6. Write addition, subtraction, multiplication, and division operations that \n",
    "#each result in the number 8. Be sure to enclose your operations in print \n",
    "#statements to see the results. "
   ]
  },
  {
   "cell_type": "code",
   "execution_count": 73,
   "id": "4fb710b8",
   "metadata": {},
   "outputs": [
    {
     "name": "stdout",
     "output_type": "stream",
     "text": [
      "8\n"
     ]
    }
   ],
   "source": [
    "print(4+4)"
   ]
  },
  {
   "cell_type": "code",
   "execution_count": 74,
   "id": "cd1d2da7",
   "metadata": {},
   "outputs": [
    {
     "name": "stdout",
     "output_type": "stream",
     "text": [
      "8\n"
     ]
    }
   ],
   "source": [
    "print(12-4)"
   ]
  },
  {
   "cell_type": "code",
   "execution_count": 75,
   "id": "f800a2dd",
   "metadata": {},
   "outputs": [
    {
     "name": "stdout",
     "output_type": "stream",
     "text": [
      "8.0\n"
     ]
    }
   ],
   "source": [
    "print(24/3)"
   ]
  },
  {
   "cell_type": "code",
   "execution_count": 76,
   "id": "375314d4",
   "metadata": {},
   "outputs": [
    {
     "name": "stdout",
     "output_type": "stream",
     "text": [
      "8\n"
     ]
    }
   ],
   "source": [
    "print(2*4)"
   ]
  },
  {
   "cell_type": "markdown",
   "id": "c37d3778",
   "metadata": {},
   "source": [
    "# Q7"
   ]
  },
  {
   "cell_type": "code",
   "execution_count": null,
   "id": "b41dab63",
   "metadata": {},
   "outputs": [],
   "source": [
    "#7. Store your favourite number in a variable. Then, using that variable, create \n",
    "#a message that reveals your favourite number. Print that message."
   ]
  },
  {
   "cell_type": "code",
   "execution_count": 84,
   "id": "bf42c1f4",
   "metadata": {},
   "outputs": [],
   "source": [
    "r=\"555\""
   ]
  },
  {
   "cell_type": "code",
   "execution_count": 88,
   "id": "13e4cb35",
   "metadata": {},
   "outputs": [
    {
     "name": "stdout",
     "output_type": "stream",
     "text": [
      "My favourite number is= 555\n"
     ]
    }
   ],
   "source": [
    "print(\"My favourite number is= \"+r) "
   ]
  },
  {
   "cell_type": "markdown",
   "id": "29e40d47",
   "metadata": {},
   "source": [
    "# Q8"
   ]
  },
  {
   "cell_type": "code",
   "execution_count": 2,
   "id": "17fb628b",
   "metadata": {},
   "outputs": [],
   "source": [
    "#8. Choose two of the programs you’ve written and add at least one comment \n",
    "#to each. If you don’t have anything specific to write because your programs \n",
    "#are too simple at this point, just add your name and the current date at the \n",
    "#top of each program file. Then write one sentence describing what the \n",
    "#program does."
   ]
  },
  {
   "cell_type": "code",
   "execution_count": 3,
   "id": "b9116f62",
   "metadata": {},
   "outputs": [],
   "source": [
    "# Name- Rushikesh Mali    Date=19/05/2021"
   ]
  },
  {
   "cell_type": "code",
   "execution_count": 4,
   "id": "eff6e727",
   "metadata": {},
   "outputs": [],
   "source": [
    "r=\"Rushi\""
   ]
  },
  {
   "cell_type": "code",
   "execution_count": 5,
   "id": "49fbb79f",
   "metadata": {},
   "outputs": [],
   "source": [
    "C=\"Cricket\""
   ]
  },
  {
   "cell_type": "code",
   "execution_count": 8,
   "id": "bf21324e",
   "metadata": {},
   "outputs": [
    {
     "name": "stdout",
     "output_type": "stream",
     "text": [
      "hi Rushi,\n",
      "Are you like to play Cricket?\n"
     ]
    }
   ],
   "source": [
    "print(\"hi\"+\" \"+r+\",\")\n",
    "print(\"Are you like to play \"+C+\"?\")"
   ]
  },
  {
   "cell_type": "markdown",
   "id": "14322816",
   "metadata": {},
   "source": [
    "# Q9"
   ]
  },
  {
   "cell_type": "code",
   "execution_count": null,
   "id": "6fb1a685",
   "metadata": {},
   "outputs": [],
   "source": [
    "#9. Store the names of a few of your friends in a list called names. Print each \n",
    "person’s name by accessing each element in the list, one at a time.\n"
   ]
  },
  {
   "cell_type": "code",
   "execution_count": 29,
   "id": "7ad711ca",
   "metadata": {},
   "outputs": [],
   "source": [
    "name= \"Ramesh\",\"Suresh\",\"Mahesh\",\"Ganesh\",\"Vighnesh\""
   ]
  },
  {
   "cell_type": "code",
   "execution_count": 30,
   "id": "07c1c847",
   "metadata": {},
   "outputs": [
    {
     "data": {
      "text/plain": [
       "5"
      ]
     },
     "execution_count": 30,
     "metadata": {},
     "output_type": "execute_result"
    }
   ],
   "source": [
    "len(name)"
   ]
  },
  {
   "cell_type": "code",
   "execution_count": 33,
   "id": "d3760ffe",
   "metadata": {},
   "outputs": [
    {
     "name": "stdout",
     "output_type": "stream",
     "text": [
      "Ramesh\n",
      "Suresh\n",
      "Mahesh\n",
      "Ganesh\n",
      "Vighnesh\n"
     ]
    }
   ],
   "source": [
    "print(name[0])\n",
    "print(name[1])\n",
    "print(name[2])\n",
    "print(name[3])\n",
    "print(name[4])"
   ]
  },
  {
   "cell_type": "markdown",
   "id": "63f8247a",
   "metadata": {},
   "source": [
    "# Q10"
   ]
  },
  {
   "cell_type": "code",
   "execution_count": null,
   "id": "21decc99",
   "metadata": {},
   "outputs": [],
   "source": [
    "#10.Start with the list you used in Exercise 9, but instead of just printing each \n",
    "person’s name, print a message to them. The text of each message should \n",
    "be the same, but each message should be personalized with the person’s\n",
    "name."
   ]
  },
  {
   "cell_type": "code",
   "execution_count": 37,
   "id": "5ee6c3c2",
   "metadata": {},
   "outputs": [
    {
     "name": "stdout",
     "output_type": "stream",
     "text": [
      "Ramesh , Today we have a online lecture be ready at 10am\n",
      "Suresh , Today we have a online lecture be ready at 10am\n",
      "Mahesh , Today we have a online lecture be ready at 10am\n",
      "Ganesh , Today we have a online lecture be ready at 10am\n",
      "Vighnesh , Today we have a online lecture be ready at 10am\n"
     ]
    }
   ],
   "source": [
    "print(name[0],\", Today we have a online lecture be ready at 10am\")\n",
    "print(name[1],\", Today we have a online lecture be ready at 10am\")\n",
    "print(name[2],\", Today we have a online lecture be ready at 10am\")\n",
    "print(name[3],\", Today we have a online lecture be ready at 10am\")\n",
    "print(name[4],\", Today we have a online lecture be ready at 10am\")"
   ]
  },
  {
   "cell_type": "markdown",
   "id": "80fe91b7",
   "metadata": {},
   "source": [
    "# Q11"
   ]
  },
  {
   "cell_type": "code",
   "execution_count": null,
   "id": "6d0c8a34",
   "metadata": {},
   "outputs": [],
   "source": [
    "#11.Think of your favourite mode of transportation, such as a motorcycle or a \n",
    "car, and make a list that stores several examples. Use your list to print a \n",
    "series of statements about these items, such as “I would like to own a \n",
    "Honda motorcycle.”"
   ]
  },
  {
   "cell_type": "code",
   "execution_count": 42,
   "id": "d5e4db58",
   "metadata": {},
   "outputs": [],
   "source": [
    "bike=\"yamaha\",\"two wheeler.\",\"mt15\",\"1.68 lakh\""
   ]
  },
  {
   "cell_type": "code",
   "execution_count": 43,
   "id": "cd692db6",
   "metadata": {},
   "outputs": [
    {
     "name": "stdout",
     "output_type": "stream",
     "text": [
      "I want to purches a  two wheeler. I saw yamaha bike. I like it, but its cost is around 1.68 lakh\n"
     ]
    }
   ],
   "source": [
    "print(\"I want to purches a \",bike[1], \"I saw\",bike[0],\"bike. I like it, but its cost is around\",bike[3])"
   ]
  }
 ],
 "metadata": {
  "kernelspec": {
   "display_name": "Python 3",
   "language": "python",
   "name": "python3"
  },
  "language_info": {
   "codemirror_mode": {
    "name": "ipython",
    "version": 3
   },
   "file_extension": ".py",
   "mimetype": "text/x-python",
   "name": "python",
   "nbconvert_exporter": "python",
   "pygments_lexer": "ipython3",
   "version": "3.8.8"
  }
 },
 "nbformat": 4,
 "nbformat_minor": 5
}
